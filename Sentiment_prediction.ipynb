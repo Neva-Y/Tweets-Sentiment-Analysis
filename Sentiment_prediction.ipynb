{
 "cells": [
  {
   "cell_type": "markdown",
   "metadata": {},
   "source": [
    "# Assignment 3"
   ]
  },
  {
   "cell_type": "markdown",
   "metadata": {},
   "source": [
    "Student Name: Xing Yang Goh\n",
    "\n",
    "Student ID: 1001969"
   ]
  },
  {
   "cell_type": "markdown",
   "metadata": {},
   "source": [
    "## Question 1: Loading and pre-processing the data"
   ]
  },
  {
   "cell_type": "markdown",
   "metadata": {},
   "source": [
    "### Read the data\n",
    "\n",
    "First, you will read in the data and create train features, train labels, test features and test labels. Do not apply any data transformations in this step and keep the '?' as is. "
   ]
  },
  {
   "cell_type": "code",
   "execution_count": 1,
   "metadata": {},
   "outputs": [],
   "source": [
    "import pandas as pd\n",
    "import numpy as np\n",
    "from scipy.sparse import csr_matrix\n",
    "\n",
    "dev_count = pd.read_csv(\"dev_count.csv\")\n",
    "dev_glove = pd.read_csv(\"dev_glove.csv\")\n",
    "dev_tfidf = pd.read_csv(\"dev_tfidf.csv\")\n",
    "\n",
    "test_count = pd.read_csv(\"test_count.csv\")\n",
    "test_glove = pd.read_csv(\"test_glove.csv\")\n",
    "test_tfidf = pd.read_csv(\"test_tfidf.csv\")\n",
    "\n",
    "train_count = pd.read_csv(\"train_count.csv\")\n",
    "train_glove = pd.read_csv(\"train_glove.csv\")\n",
    "train_tfidf = pd.read_csv(\"train_tfidf.csv\")\n",
    "\n",
    "dev_label = dev_count[\"sentiment\"]\n",
    "dev_label = dev_label.values.tolist()\n",
    "train_label = train_count[\"sentiment\"]\n",
    "train_label = train_label.values.tolist()\n",
    "\n",
    "dev_count_tweet = dev_count[\"tweet\"]\n",
    "dev_count_tweet = dev_count_tweet.values.tolist()\n",
    "test_count_tweet = test_count[\"tweet\"]\n",
    "test_count_tweet = test_count_tweet.values.tolist()\n",
    "train_count_tweet = train_count[\"tweet\"]\n",
    "train_count_tweet = train_count_tweet.values.tolist()\n",
    "\n",
    "dev_tfidf_tweet = dev_tfidf[\"tweet\"]\n",
    "dev_tfidf_tweet = dev_tfidf_tweet.values.tolist()\n",
    "test_tfidf_tweet = test_tfidf[\"tweet\"]\n",
    "test_tfidf_tweet = test_tfidf_tweet.values.tolist()\n",
    "train_tfidf_tweet = train_tfidf[\"tweet\"]\n",
    "train_tfidf_tweet = train_tfidf_tweet.values.tolist()\n",
    "\n",
    "dev_glove_tweet = dev_glove[\"tweet\"]\n",
    "dev_glove_tweet = dev_glove_tweet.values.tolist()\n",
    "test_glove_tweet = test_glove[\"tweet\"]\n",
    "test_glove_tweet = test_glove_tweet.values.tolist()\n",
    "train_glove_tweet = train_glove[\"tweet\"]\n",
    "train_glove_tweet = train_glove_tweet.values.tolist()\n",
    "\n",
    "\n",
    "\n",
    "def countVectorize(vector, newVector):\n",
    "    for i in range(len(vector)):\n",
    "        vector[i] = vector[i].strip('[')\n",
    "        vector[i] = vector[i].strip(']')\n",
    "        vector[i] = vector[i].split(', (')\n",
    "    \n",
    "        for j in range(len(vector[i])):\n",
    "            vector[i][j] = vector[i][j].strip('(')\n",
    "            vector[i][j] = vector[i][j].strip(')')\n",
    "            temp = vector[i][j].split(',')\n",
    "            newVector[i][int(temp[0])] = float(temp[1])\n",
    "    return newVector\n",
    "\n",
    "def gloveVectorise(vector):\n",
    "    for i in range(len(vector)):\n",
    "        vector[i] = vector[i].strip('[')\n",
    "        vector[i] = vector[i].strip(']')\n",
    "        vector[i] = vector[i].split(',')\n",
    "    return vector\n",
    "\n",
    "test_count_instance = np.zeros((len(test_count_tweet), 5000))\n",
    "test_count_instance = countVectorize(test_count_tweet, test_count_instance)\n",
    "A = csr_matrix(test_count_instance)\n",
    "test_count_instance = A.todense().A\n",
    "\n",
    "dev_count_instance = np.zeros((len(dev_count_tweet), 5000))\n",
    "dev_count_instance = countVectorize(dev_count_tweet, dev_count_instance)\n",
    "A = csr_matrix(dev_count_instance)\n",
    "dev_count_instance = A.todense().A\n",
    "\n",
    "train_count_instance = np.zeros((len(train_count_tweet), 5000))\n",
    "train_count_instance = countVectorize(train_count_tweet, train_count_instance)\n",
    "A = csr_matrix(train_count_instance)\n",
    "train_count_instance = A.todense().A\n",
    "\n",
    "test_tfidf_instance = np.zeros((len(test_tfidf_tweet), 5000))\n",
    "test_tfidf_instance = countVectorize(test_tfidf_tweet, test_tfidf_instance)\n",
    "A = csr_matrix(test_tfidf_instance)\n",
    "test_tfidf_instance = A.todense().A\n",
    "\n",
    "dev_tfidf_instance = np.zeros((len(dev_tfidf_tweet), 5000))\n",
    "dev_tfidf_instance = countVectorize(dev_tfidf_tweet, dev_tfidf_instance)\n",
    "A = csr_matrix(dev_tfidf_instance)\n",
    "dev_tfidf_instance = A.todense().A\n",
    "\n",
    "train_tfidf_instance = np.zeros((len(train_tfidf_tweet), 5000))\n",
    "train_tfidf_instance = countVectorize(train_tfidf_tweet, train_tfidf_instance)\n",
    "A = csr_matrix(train_tfidf_instance)\n",
    "train_tfidf_instance = A.todense().A\n",
    "\n",
    "test_glove_instance = np.array(gloveVectorise(test_glove_tweet))\n",
    "test_glove_instance = test_glove_instance.astype(np.float64)\n",
    "A = csr_matrix(test_glove_instance)\n",
    "test_glove_instance = A.todense().A\n",
    "\n",
    "dev_glove_instance =  np.array(gloveVectorise(dev_glove_tweet))\n",
    "dev_glove_instance = dev_glove_instance.astype(np.float64)\n",
    "A = csr_matrix(dev_glove_instance)\n",
    "dev_glove_instance = A.todense().A\n",
    "\n",
    "train_glove_instance =  np.array(gloveVectorise(train_glove_tweet))\n",
    "train_glove_instance = train_glove_instance.astype(np.float64)\n",
    "A = csr_matrix(train_glove_instance)\n",
    "train_glove_instance = A.todense().A\n",
    " "
   ]
  },
  {
   "cell_type": "markdown",
   "metadata": {},
   "source": [
    "## Zero R baseline"
   ]
  },
  {
   "cell_type": "code",
   "execution_count": 2,
   "metadata": {},
   "outputs": [
    {
     "name": "stdout",
     "output_type": "stream",
     "text": [
      "Zero-R baseline classifier \t\tAccuracy: 0.4067\tMacro F1: 0.1927\tMicro F1: 0.4067\n",
      "Training label class distribution\t Counter({'neg': 64872, 'pos': 62447, 'neu': 31934})\n"
     ]
    }
   ],
   "source": [
    "from sklearn.dummy import DummyClassifier\n",
    "from collections import Counter\n",
    "from sklearn.metrics import f1_score\n",
    "from sklearn.metrics import accuracy_score\n",
    "\n",
    "dummy_clf = DummyClassifier(strategy=\"most_frequent\")\n",
    "dummy_clf.fit(train_count_instance, train_label)\n",
    "DummyClassifier(strategy='most_frequent')\n",
    "predictions = dummy_clf.predict(dev_count_instance)\n",
    "\n",
    "baselineAccuracy = accuracy_score(predictions, dev_label)\n",
    "baselineF1Macro = f1_score(predictions, dev_label, average='macro')\n",
    "baselineF1Micro = f1_score(predictions, dev_label, average='micro')\n",
    "\n",
    "\n",
    "print(f\"Zero-R baseline classifier \\t\\tAccuracy: {round(baselineAccuracy, 4)}\\tMacro F1: {round(baselineF1Macro, 4)}\\tMicro F1: {round(baselineF1Micro, 4)}\")\n",
    "print(f\"Training label class distribution\\t {Counter(train_label)}\")\n"
   ]
  },
  {
   "cell_type": "code",
   "execution_count": 3,
   "metadata": {},
   "outputs": [
    {
     "data": {
      "image/png": "[encoded data removed]",
      "text/plain": [
       "<Figure size 432x288 with 1 Axes>"
      ]
     },
     "metadata": {
      "needs_background": "light"
     },
     "output_type": "display_data"
    }
   ],
   "source": [
    "from sklearn.model_selection import learning_curve\n",
    "import matplotlib.pyplot as plt\n",
    "\n",
    "\n",
    "train_sizes, train_scores, test_scores = learning_curve(estimator=DummyClassifier(strategy=\"most_frequent\"), X=train_count_instance, y=train_label)\n",
    "train_mean = np.mean(train_scores, axis=1)\n",
    "train_std = np.std(train_scores, axis=1)\n",
    "test_mean = np.mean(test_scores, axis=1)\n",
    "test_std = np.std(test_scores, axis=1)\n",
    "\n",
    "plt.plot(train_sizes, train_mean, color='blue', marker='o', markersize=5, label='Training Accuracy')\n",
    "plt.plot(train_sizes, test_mean, color='green', marker='+', markersize=5, linestyle='--', label='Validation Accuracy')\n",
    "plt.title('Learning Curve')\n",
    "plt.xlabel('Training Data Size')\n",
    "plt.ylabel('Model accuracy')\n",
    "plt.grid()\n",
    "plt.legend(loc='lower right')\n",
    "plt.show()"
   ]
  },
  {
   "cell_type": "markdown",
   "metadata": {},
   "source": [
    "## Naive Bayes"
   ]
  },
  {
   "cell_type": "code",
   "execution_count": 7,
   "metadata": {},
   "outputs": [
    {
     "name": "stdout",
     "output_type": "stream",
     "text": [
      "NB Multinomial for counts \t\tAccuracy: 0.7308\tMacro F1: 0.7467\n",
      "NB Multinomial for tfidf \t\tAccuracy: 0.7256\tMacro F1: 0.743\n"
     ]
    }
   ],
   "source": [
    "from sklearn.naive_bayes import GaussianNB\n",
    "from sklearn.naive_bayes import CategoricalNB\n",
    "from sklearn.naive_bayes import MultinomialNB\n",
    "from sklearn.metrics import f1_score\n",
    "from sklearn.metrics import accuracy_score\n",
    "##################################\n",
    "## your code begins here\n",
    "##################################\n",
    "\n",
    "# using Categorical NB model and fitting train instances. Apply model on test features \n",
    "def nb_cat_features(train_features, train_labels, test_features):\n",
    "    predictions = []      \n",
    "    classifier = CategoricalNB()\n",
    "    classifier.fit(train_features, train_labels)\n",
    "    predictions = classifier.predict(test_features)\n",
    "    return predictions\n",
    "\n",
    "# using Gaussian NB model and fitting train instances. Apply model on test features \n",
    "def nb_num_features(train_features, train_labels, test_features):\n",
    "    predictions = []      \n",
    "    classifier = GaussianNB()\n",
    "    classifier.fit(train_features, train_labels)\n",
    "    predictions = classifier.predict(test_features)\n",
    "    return predictions\n",
    "\n",
    "def nb_text_features(train_features, train_labels, test_features):\n",
    "    predictions = []      \n",
    "    classifier = MultinomialNB()\n",
    "    classifier.fit(train_features, train_labels)\n",
    "    predictions = classifier.predict(test_features)\n",
    "    return predictions\n",
    "\n",
    "#categorical_predictions = nb_cat_features(train_tweet_instance, train_label, dev_tweet_instance)\n",
    "#categoricalAccuracy = accuracy_score(categorical_predictions, dev_label)\n",
    "#categoricalF1 = f1_score(multinomial_predictions, dev_label, average='macro')\n",
    "\n",
    "#numerical_predictions = nb_num_features(train_tweet_instance, train_label, dev_tweet_instance)\n",
    "#numericalAccuracy = accuracy_score(numerical_predictions, dev_label)\n",
    "#numericalF1 = f1_score(multinomial_predictions, dev_label, average='macro')\n",
    "\n",
    "multinomial_predictions = nb_text_features(train_count_instance, train_label, dev_count_instance)\n",
    "multinomialAccuracy = accuracy_score(multinomial_predictions, dev_label)\n",
    "multinomialF1 = f1_score(multinomial_predictions, dev_label, average='macro')\n",
    "\n",
    "print(f\"NB Multinomial for counts \\t\\tAccuracy: {round(multinomialAccuracy, 4)}\\tMacro F1: {round(multinomialF1, 4)}\")\n",
    "\n",
    "multinomial_predictions = nb_text_features(train_tfidf_instance, train_label, dev_tfidf_instance)\n",
    "multinomialAccuracy = accuracy_score(multinomial_predictions, dev_label)\n",
    "multinomialF1 = f1_score(multinomial_predictions, dev_label, average='macro')\n",
    "\n",
    "print(f\"NB Multinomial for tfidf \\t\\tAccuracy: {round(multinomialAccuracy, 4)}\\tMacro F1: {round(multinomialF1, 4)}\")\n",
    "\n",
    "\n",
    "\n",
    "#print(f\"NB Numerical for counts \\t\\tAccuracy: {round(numericalAccuracy, 4)}\\tMacro F1: {round(numericalF1, 4)}\")\n",
    "#print(f\"NB Categorical for counts \\t\\tAccuracy: {round(categoricalAccuracy, 4)}\\tMacro F1: {round(categoricalF1, 4)}\")\n",
    "\n",
    "############################\n",
    "## your code ends here\n",
    "############################"
   ]
  },
  {
   "cell_type": "code",
   "execution_count": 14,
   "metadata": {},
   "outputs": [
    {
     "data": {
      "image/png": "[encoded data removed]",
      "text/plain": [
       "<Figure size 432x288 with 1 Axes>"
      ]
     },
     "metadata": {
      "needs_background": "light"
     },
     "output_type": "display_data"
    }
   ],
   "source": [
    "from sklearn.model_selection import learning_curve\n",
    "import matplotlib.pyplot as plt\n",
    "from sklearn.naive_bayes import MultinomialNB\n",
    "\n",
    "\n",
    "train_sizes, train_scores, test_scores = learning_curve(estimator=MultinomialNB(), X=train_count_instance, y=train_label)\n",
    "train_mean = np.mean(train_scores, axis=1)\n",
    "train_std = np.std(train_scores, axis=1)\n",
    "test_mean = np.mean(test_scores, axis=1)\n",
    "test_std = np.std(test_scores, axis=1)\n",
    "\n",
    "plt.plot(train_sizes, train_mean, color='blue', marker='o', markersize=5, label='Training Accuracy')\n",
    "plt.plot(train_sizes, test_mean, color='green', marker='+', markersize=5, linestyle='--', label='Validation Accuracy')\n",
    "plt.title('Learning Curve')\n",
    "plt.xlabel('Training Data Size')\n",
    "plt.ylabel('Model accuracy')\n",
    "plt.grid()\n",
    "plt.legend(loc='lower right')\n",
    "plt.show()"
   ]
  },
  {
   "cell_type": "markdown",
   "metadata": {},
   "source": [
    "## Logistic Regression"
   ]
  },
  {
   "cell_type": "code",
   "execution_count": 9,
   "metadata": {},
   "outputs": [
    {
     "name": "stdout",
     "output_type": "stream",
     "text": [
      "LR for glove \t\tAccuracy: 0.6777\tMacro F1: 0.694\n",
      "LR for counts \t\tAccuracy: 0.7365\tMacro F1: 0.7517\n",
      "LR for tfidf \t\tAccuracy: 0.7373\tMacro F1: 0.7528\n"
     ]
    }
   ],
   "source": [
    "from sklearn.linear_model import LogisticRegression\n",
    "from sklearn.preprocessing import StandardScaler\n",
    "from sklearn.metrics import f1_score\n",
    "from sklearn.metrics import accuracy_score\n",
    "\n",
    "\n",
    "lr_predictions = []\n",
    "x_train_norm_full = []\n",
    "x_test_norm_full = []\n",
    "lr_coeffs = {}\n",
    "\n",
    "############################\n",
    "## your code begins here\n",
    "############################\n",
    "\n",
    "\n",
    "# fit standard scaler\n",
    "scaler = StandardScaler()\n",
    "scaler.fit(train_glove_instance)\n",
    "train_glove_instance_scaled = scaler.transform(train_glove_instance)\n",
    "dev_glove_instance_scaled = scaler.transform(dev_glove_instance)\n",
    "\n",
    "# fit logistic regression model with training instances then apply on testing instances\n",
    "classifier = LogisticRegression(max_iter=1000).fit(train_glove_instance_scaled, train_label)\n",
    "lr_predictions = classifier.predict(dev_glove_instance_scaled)\n",
    "\n",
    "lr_err = accuracy_score(lr_predictions, dev_label)\n",
    "lr_f1 = f1_score(lr_predictions, dev_label, average='macro')\n",
    "\n",
    "print(f\"LR for glove \\t\\tAccuracy: {round(lr_err, 4)}\\tMacro F1: {round(lr_f1, 4)}\")\n",
    "\n",
    "\n",
    "# fit standard scaler\n",
    "scaler = StandardScaler()\n",
    "scaler.fit(train_count_instance)\n",
    "train_count_instance_scaled = scaler.transform(train_count_instance)\n",
    "dev_count_instance_scaled = scaler.transform(dev_count_instance)\n",
    "\n",
    "# fit logistic regression model with training instances then apply on testing instances\n",
    "classifier = LogisticRegression(max_iter=1000).fit(train_count_instance_scaled, train_label)\n",
    "lr_predictions = classifier.predict(dev_count_instance_scaled)\n",
    "\n",
    "lr_err = accuracy_score(lr_predictions, dev_label)\n",
    "lr_f1 = f1_score(lr_predictions, dev_label, average='macro')\n",
    "\n",
    "print(f\"LR for counts \\t\\tAccuracy: {round(lr_err, 4)}\\tMacro F1: {round(lr_f1, 4)}\")\n",
    "\n",
    "\n",
    "# fit standard scaler\n",
    "scaler = StandardScaler()\n",
    "scaler.fit(train_tfidf_instance)\n",
    "train_tfidf_instance_scaled = scaler.transform(train_tfidf_instance)\n",
    "dev_tfidf_instance_scaled = scaler.transform(dev_tfidf_instance)\n",
    "\n",
    "# fit logistic regression model with training instances then apply on testing instances \n",
    "classifier = LogisticRegression(max_iter=1000).fit(train_tfidf_instance_scaled, train_label)\n",
    "lr_predictions = classifier.predict(dev_tfidf_instance_scaled)\n",
    "\n",
    "lr_err = accuracy_score(lr_predictions, dev_label)\n",
    "lr_f1 = f1_score(lr_predictions, dev_label, average='macro')\n",
    "\n",
    "print(f\"LR for tfidf \\t\\tAccuracy: {round(lr_err, 4)}\\tMacro F1: {round(lr_f1, 4)}\")\n"
   ]
  },
  {
   "cell_type": "code",
   "execution_count": 34,
   "metadata": {},
   "outputs": [],
   "source": [
    "testScaled = scaler.transform(test_count_instance)\n",
    "test_predictions =classifier.predict(testScaled)\n",
    "ids = test_count[\"tweet_id\"].values.tolist()\n",
    "ids = np.array(ids)\n",
    "dataset = pd.DataFrame({'tweet_id': ids, 'sentiment': test_predictions}, columns=['tweet_id', 'sentiment'])\n",
    "dataset.to_csv('out.csv', index=False)"
   ]
  },
  {
   "cell_type": "code",
   "execution_count": null,
   "metadata": {},
   "outputs": [],
   "source": [
    "print(f\"LR for glove \\t\\tAccuracy: 0.6777 \\tMacro F1: 0.694\")\n",
    "print(f\"LR for counts \\t\\tAccuracy: 0.7365 \\tMacro F1: 0.7517\")\n",
    "print(f\"LR for tfidf \\t\\tAccuracy: 0.7373 \\tMacro F1: 0.7528\")"
   ]
  },
  {
   "cell_type": "code",
   "execution_count": null,
   "metadata": {},
   "outputs": [],
   "source": [
    "from sklearn.preprocessing import StandardScaler\n",
    "from sklearn.pipeline import make_pipeline\n",
    "from sklearn.linear_model import LogisticRegression\n",
    "from sklearn.model_selection import learning_curve\n",
    "import matplotlib.pyplot as plt\n",
    "\n",
    "\n",
    "\n",
    "pipeline = make_pipeline(StandardScaler(), LogisticRegression(max_iter=500))\n",
    "\n",
    "train_sizes, train_scores, test_scores = learning_curve(estimator=pipeline, X=train_tfidf_instance, y=train_label, train_sizes=([0.03, 0.8, 0.15]))\n",
    "train_mean = np.mean(train_scores, axis=1)\n",
    "train_std = np.std(train_scores, axis=1)\n",
    "test_mean = np.mean(test_scores, axis=1)\n",
    "test_std = np.std(test_scores, axis=1)\n",
    "\n",
    "plt.plot(train_sizes, train_mean, color='blue', marker='o', markersize=5, label='Training Accuracy')\n",
    "plt.plot(train_sizes, test_mean, color='green', marker='+', markersize=5, linestyle='--', label='Validation Accuracy')\n",
    "plt.title('Learning Curve')\n",
    "plt.xlabel('Training Data Size')\n",
    "plt.ylabel('Model accuracy')\n",
    "plt.grid()\n",
    "plt.legend(loc='lower right')\n",
    "plt.show()"
   ]
  },
  {
   "cell_type": "code",
   "execution_count": null,
   "metadata": {},
   "outputs": [],
   "source": [
    "test_tfidf_instance_scaled = scaler.transform(test_tfidf_instance)\n",
    "lr_predictions = classifier.predict(test_tfidf_instance_scaled)"
   ]
  },
  {
   "cell_type": "markdown",
   "metadata": {},
   "source": [
    "## Multilayer Perceptron"
   ]
  },
  {
   "cell_type": "code",
   "execution_count": 38,
   "metadata": {},
   "outputs": [
    {
     "name": "stderr",
     "output_type": "stream",
     "text": [
      "C:\\Users\\Admin\\anaconda3\\lib\\site-packages\\sklearn\\neural_network\\_multilayer_perceptron.py:582: ConvergenceWarning: Stochastic Optimizer: Maximum iterations (20) reached and the optimization hasn't converged yet.\n",
      "  warnings.warn(\n"
     ]
    },
    {
     "name": "stdout",
     "output_type": "stream",
     "text": [
      "MLP for glove \t\tAccuracy: 0.7066\tMacro F1: 0.7277\n"
     ]
    },
    {
     "name": "stderr",
     "output_type": "stream",
     "text": [
      "C:\\Users\\Admin\\anaconda3\\lib\\site-packages\\sklearn\\neural_network\\_multilayer_perceptron.py:582: ConvergenceWarning: Stochastic Optimizer: Maximum iterations (20) reached and the optimization hasn't converged yet.\n",
      "  warnings.warn(\n"
     ]
    },
    {
     "name": "stdout",
     "output_type": "stream",
     "text": [
      "MLP for tfidf \t\tAccuracy: 0.7136\tMacro F1: 0.7316\n"
     ]
    },
    {
     "name": "stderr",
     "output_type": "stream",
     "text": [
      "C:\\Users\\Admin\\anaconda3\\lib\\site-packages\\sklearn\\neural_network\\_multilayer_perceptron.py:582: ConvergenceWarning: Stochastic Optimizer: Maximum iterations (20) reached and the optimization hasn't converged yet.\n",
      "  warnings.warn(\n"
     ]
    },
    {
     "name": "stdout",
     "output_type": "stream",
     "text": [
      "MLP for counts \t\tAccuracy: 0.7094\tMacro F1: 0.7275\n"
     ]
    }
   ],
   "source": [
    "from sklearn.neural_network import MLPClassifier\n",
    "from sklearn.metrics import f1_score\n",
    "from sklearn.metrics import accuracy_score\n",
    "\n",
    "clf = MLPClassifier(random_state=1, max_iter=20).fit(train_glove_instance, train_label)\n",
    "MLP_predictions = clf.predict(dev_glove_instance)\n",
    "\n",
    "mlp_err = accuracy_score(MLP_predictions, dev_label)\n",
    "mlp_f1 = f1_score(MLP_predictions, dev_label, average='macro')\n",
    "\n",
    "print(f\"MLP for glove \\t\\tAccuracy: {round(mlp_err, 4)}\\tMacro F1: {round(mlp_f1, 4)}\")\n",
    "\n",
    "clf = MLPClassifier(random_state=1, max_iter=20).fit(train_tfidf_instance, train_label)\n",
    "MLP_predictions = clf.predict(dev_tfidf_instance)\n",
    "\n",
    "mlp_err = accuracy_score(MLP_predictions, dev_label)\n",
    "mlp_f1 = f1_score(MLP_predictions, dev_label, average='macro')\n",
    "\n",
    "print(f\"MLP for tfidf \\t\\tAccuracy: {round(mlp_err, 4)}\\tMacro F1: {round(mlp_f1, 4)}\")\n",
    "\n",
    "clf = MLPClassifier(random_state=1, max_iter=20).fit(train_count_instance, train_label)\n",
    "MLP_predictions = clf.predict(dev_count_instance)\n",
    "\n",
    "mlp_err = accuracy_score(MLP_predictions, dev_label)\n",
    "mlp_f1 = f1_score(MLP_predictions, dev_label, average='macro')\n",
    "\n",
    "print(f\"MLP for counts \\t\\tAccuracy: {round(mlp_err, 4)}\\tMacro F1: {round(mlp_f1, 4)}\")"
   ]
  },
  {
   "cell_type": "code",
   "execution_count": 7,
   "metadata": {},
   "outputs": [
    {
     "name": "stdout",
     "output_type": "stream",
     "text": [
      "MLP for glove \t\tAccuracy: 0.7066 \tMicro F1: 0.7066\n",
      "MLP for tfidf \t\tAccuracy: 0.7136 \tMacro F1: 0.7136\n",
      "MLP for counts \t\tAccuracy: 0.7094 \tMacro F1: 0.7094\n"
     ]
    }
   ],
   "source": [
    "print(f\"MLP for glove \\t\\tAccuracy: 0.7066 \\tMicro F1: 0.7066\")\n",
    "\n",
    "print(f\"MLP for tfidf \\t\\tAccuracy: 0.7136 \\tMacro F1: 0.7136\")\n",
    "\n",
    "print(f\"MLP for counts \\t\\tAccuracy: 0.7094 \\tMacro F1: 0.7094\")"
   ]
  },
  {
   "cell_type": "code",
   "execution_count": 6,
   "metadata": {},
   "outputs": [
    {
     "name": "stderr",
     "output_type": "stream",
     "text": [
      "C:\\Users\\Admin\\anaconda3\\lib\\site-packages\\sklearn\\neural_network\\_multilayer_perceptron.py:582: ConvergenceWarning: Stochastic Optimizer: Maximum iterations (20) reached and the optimization hasn't converged yet.\n",
      "  warnings.warn(\n"
     ]
    },
    {
     "name": "stdout",
     "output_type": "stream",
     "text": [
      "MLP for tfidf \t\tAccuracy: 0.7175\tMacro F1: 0.7329\n"
     ]
    }
   ],
   "source": [
    "from sklearn.neural_network import MLPClassifier\n",
    "from sklearn.metrics import f1_score\n",
    "from sklearn.metrics import accuracy_score\n",
    "\n",
    "\n",
    "clf = MLPClassifier(random_state=1, alpha=0.7, max_iter=20).fit(train_tfidf_instance, train_label)\n",
    "MLP_predictions = clf.predict(dev_tfidf_instance)\n",
    "\n",
    "mlp_err = accuracy_score(MLP_predictions, dev_label)\n",
    "mlp_f1 = f1_score(MLP_predictions, dev_label, average='macro')\n",
    "\n",
    "print(f\"MLP for tfidf \\t\\tAccuracy: {round(mlp_err, 4)}\\tMacro F1: {round(mlp_f1, 4)}\")\n"
   ]
  },
  {
   "cell_type": "code",
   "execution_count": 3,
   "metadata": {},
   "outputs": [
    {
     "name": "stderr",
     "output_type": "stream",
     "text": [
      "C:\\Users\\Admin\\anaconda3\\lib\\site-packages\\sklearn\\neural_network\\_multilayer_perceptron.py:582: ConvergenceWarning: Stochastic Optimizer: Maximum iterations (20) reached and the optimization hasn't converged yet.\n",
      "  warnings.warn(\n"
     ]
    },
    {
     "name": "stdout",
     "output_type": "stream",
     "text": [
      "MLP for tfidf \t\tAccuracy: 0.7241\tMacro F1: 0.7394\n"
     ]
    }
   ],
   "source": [
    "from sklearn.neural_network import MLPClassifier\n",
    "from sklearn.metrics import f1_score\n",
    "from sklearn.metrics import accuracy_score\n",
    "\n",
    "\n",
    "clf = MLPClassifier(random_state=1, alpha=0.5, max_iter=20).fit(train_tfidf_instance, train_label)\n",
    "MLP_predictions = clf.predict(dev_tfidf_instance)\n",
    "\n",
    "mlp_err = accuracy_score(MLP_predictions, dev_label)\n",
    "mlp_f1 = f1_score(MLP_predictions, dev_label, average='macro')\n",
    "\n",
    "print(f\"MLP for tfidf \\t\\tAccuracy: {round(mlp_err, 4)}\\tMacro F1: {round(mlp_f1, 4)}\")\n"
   ]
  },
  {
   "cell_type": "code",
   "execution_count": 4,
   "metadata": {},
   "outputs": [
    {
     "name": "stderr",
     "output_type": "stream",
     "text": [
      "C:\\Users\\Admin\\anaconda3\\lib\\site-packages\\sklearn\\neural_network\\_multilayer_perceptron.py:582: ConvergenceWarning: Stochastic Optimizer: Maximum iterations (20) reached and the optimization hasn't converged yet.\n",
      "  warnings.warn(\n"
     ]
    },
    {
     "name": "stdout",
     "output_type": "stream",
     "text": [
      "MLP for tfidf \t\tAccuracy: 0.7309\tMacro F1: 0.7464\n"
     ]
    }
   ],
   "source": [
    "from sklearn.neural_network import MLPClassifier\n",
    "from sklearn.metrics import f1_score\n",
    "from sklearn.metrics import accuracy_score\n",
    "\n",
    "\n",
    "clf = MLPClassifier(random_state=1, alpha=0.3, max_iter=20).fit(train_tfidf_instance, train_label)\n",
    "MLP_predictions = clf.predict(dev_tfidf_instance)\n",
    "\n",
    "mlp_err = accuracy_score(MLP_predictions, dev_label)\n",
    "mlp_f1 = f1_score(MLP_predictions, dev_label, average='macro')\n",
    "\n",
    "print(f\"MLP for tfidf \\t\\tAccuracy: {round(mlp_err, 4)}\\tMacro F1: {round(mlp_f1, 4)}\")\n"
   ]
  },
  {
   "cell_type": "code",
   "execution_count": 5,
   "metadata": {},
   "outputs": [
    {
     "name": "stderr",
     "output_type": "stream",
     "text": [
      "C:\\Users\\Admin\\anaconda3\\lib\\site-packages\\sklearn\\neural_network\\_multilayer_perceptron.py:582: ConvergenceWarning: Stochastic Optimizer: Maximum iterations (20) reached and the optimization hasn't converged yet.\n",
      "  warnings.warn(\n"
     ]
    },
    {
     "name": "stdout",
     "output_type": "stream",
     "text": [
      "MLP for tfidf \t\tAccuracy: 0.7351\tMacro F1: 0.7507\n"
     ]
    }
   ],
   "source": [
    "from sklearn.neural_network import MLPClassifier\n",
    "from sklearn.metrics import f1_score\n",
    "from sklearn.metrics import accuracy_score\n",
    "\n",
    "\n",
    "clf = MLPClassifier(random_state=1, alpha=0.2, max_iter=20).fit(train_tfidf_instance, train_label)\n",
    "MLP_predictions = clf.predict(dev_tfidf_instance)\n",
    "\n",
    "mlp_err = accuracy_score(MLP_predictions, dev_label)\n",
    "mlp_f1 = f1_score(MLP_predictions, dev_label, average='macro')\n",
    "\n",
    "print(f\"MLP for tfidf \\t\\tAccuracy: {round(mlp_err, 4)}\\tMacro F1: {round(mlp_f1, 4)}\")\n"
   ]
  },
  {
   "cell_type": "code",
   "execution_count": 7,
   "metadata": {},
   "outputs": [
    {
     "name": "stderr",
     "output_type": "stream",
     "text": [
      "C:\\Users\\Admin\\anaconda3\\lib\\site-packages\\sklearn\\neural_network\\_multilayer_perceptron.py:582: ConvergenceWarning: Stochastic Optimizer: Maximum iterations (20) reached and the optimization hasn't converged yet.\n",
      "  warnings.warn(\n"
     ]
    },
    {
     "name": "stdout",
     "output_type": "stream",
     "text": [
      "MLP for tfidf \t\tAccuracy: 0.7382\tMacro F1: 0.754\n"
     ]
    }
   ],
   "source": [
    "from sklearn.neural_network import MLPClassifier\n",
    "from sklearn.metrics import f1_score\n",
    "from sklearn.metrics import accuracy_score\n",
    "\n",
    "\n",
    "clf = MLPClassifier(random_state=1, alpha=0.1, max_iter=20).fit(train_tfidf_instance, train_label)\n",
    "MLP_predictions = clf.predict(dev_tfidf_instance)\n",
    "\n",
    "mlp_err = accuracy_score(MLP_predictions, dev_label)\n",
    "mlp_f1 = f1_score(MLP_predictions, dev_label, average='macro')\n",
    "\n",
    "print(f\"MLP for tfidf \\t\\tAccuracy: {round(mlp_err, 4)}\\tMacro F1: {round(mlp_f1, 4)}\")\n"
   ]
  },
  {
   "cell_type": "code",
   "execution_count": 18,
   "metadata": {},
   "outputs": [
    {
     "name": "stdout",
     "output_type": "stream",
     "text": [
      "MLP for tfidf \t\tAccuracy: 0.7945\tMacro F1: 0.7597\n"
     ]
    }
   ],
   "source": [
    "MLP_predictions = clf.predict(train_tfidf_instance)\n",
    "\n",
    "mlp_err = accuracy_score(MLP_predictions, train_label)\n",
    "print(f\"MLP for tfidf \\t\\tAccuracy: {round(mlp_err, 4)}\\tMacro F1: {round(mlp_f1, 4)}\")\n"
   ]
  },
  {
   "cell_type": "code",
   "execution_count": null,
   "metadata": {},
   "outputs": [],
   "source": [
    "from sklearn.neural_network import MLPClassifier\n",
    "from sklearn.metrics import f1_score\n",
    "from sklearn.metrics import accuracy_score\n",
    "\n",
    "\n",
    "clf = MLPClassifier(random_state=1, alpha=0.08, max_iter=40).fit(train_tfidf_instance, train_label)\n",
    "MLP_predictions = clf.predict(dev_tfidf_instance)\n",
    "\n",
    "mlp_err = accuracy_score(MLP_predictions, dev_label)\n",
    "mlp_f1 = f1_score(MLP_predictions, dev_label, average='macro')\n",
    "\n",
    "print(f\"MLP for tfidf \\t\\tAccuracy: {round(mlp_err, 4)}\\tMacro F1: {round(mlp_f1, 4)}\")\n"
   ]
  },
  {
   "cell_type": "code",
   "execution_count": 19,
   "metadata": {},
   "outputs": [],
   "source": [
    "test_predictions =clf.predict(test_count_instance)\n",
    "ids = test_count[\"tweet_id\"].values.tolist()\n",
    "ids = np.array(ids)\n",
    "dataset = pd.DataFrame({'tweet_id': ids, 'sentiment': test_predictions}, columns=['tweet_id', 'sentiment'])\n",
    "dataset.to_csv('MLP.csv', index=False)"
   ]
  },
  {
   "cell_type": "code",
   "execution_count": 8,
   "metadata": {},
   "outputs": [
    {
     "name": "stderr",
     "output_type": "stream",
     "text": [
      "C:\\Users\\Admin\\anaconda3\\lib\\site-packages\\sklearn\\neural_network\\_multilayer_perceptron.py:582: ConvergenceWarning: Stochastic Optimizer: Maximum iterations (20) reached and the optimization hasn't converged yet.\n",
      "  warnings.warn(\n"
     ]
    },
    {
     "name": "stdout",
     "output_type": "stream",
     "text": [
      "MLP for tfidf \t\tAccuracy: 0.7377\tMacro F1: 0.754\n"
     ]
    }
   ],
   "source": [
    "from sklearn.neural_network import MLPClassifier\n",
    "from sklearn.metrics import f1_score\n",
    "from sklearn.metrics import accuracy_score\n",
    "\n",
    "\n",
    "clf = MLPClassifier(random_state=1, alpha=0.05, max_iter=20).fit(train_tfidf_instance, train_label)\n",
    "MLP_predictions = clf.predict(dev_tfidf_instance)\n",
    "\n",
    "mlp_err = accuracy_score(MLP_predictions, dev_label)\n",
    "mlp_f1 = f1_score(MLP_predictions, dev_label, average='macro')\n",
    "\n",
    "print(f\"MLP for tfidf \\t\\tAccuracy: {round(mlp_err, 4)}\\tMacro F1: {round(mlp_f1, 4)}\")\n"
   ]
  },
  {
   "cell_type": "code",
   "execution_count": 13,
   "metadata": {},
   "outputs": [
    {
     "name": "stderr",
     "output_type": "stream",
     "text": [
      "C:\\Users\\Admin\\anaconda3\\lib\\site-packages\\sklearn\\neural_network\\_multilayer_perceptron.py:582: ConvergenceWarning: Stochastic Optimizer: Maximum iterations (20) reached and the optimization hasn't converged yet.\n",
      "  warnings.warn(\n",
      "C:\\Users\\Admin\\anaconda3\\lib\\site-packages\\sklearn\\neural_network\\_multilayer_perceptron.py:582: ConvergenceWarning: Stochastic Optimizer: Maximum iterations (20) reached and the optimization hasn't converged yet.\n",
      "  warnings.warn(\n",
      "C:\\Users\\Admin\\anaconda3\\lib\\site-packages\\sklearn\\neural_network\\_multilayer_perceptron.py:582: ConvergenceWarning: Stochastic Optimizer: Maximum iterations (20) reached and the optimization hasn't converged yet.\n",
      "  warnings.warn(\n",
      "C:\\Users\\Admin\\anaconda3\\lib\\site-packages\\sklearn\\neural_network\\_multilayer_perceptron.py:582: ConvergenceWarning: Stochastic Optimizer: Maximum iterations (20) reached and the optimization hasn't converged yet.\n",
      "  warnings.warn(\n",
      "C:\\Users\\Admin\\anaconda3\\lib\\site-packages\\sklearn\\neural_network\\_multilayer_perceptron.py:582: ConvergenceWarning: Stochastic Optimizer: Maximum iterations (20) reached and the optimization hasn't converged yet.\n",
      "  warnings.warn(\n",
      "C:\\Users\\Admin\\anaconda3\\lib\\site-packages\\sklearn\\neural_network\\_multilayer_perceptron.py:582: ConvergenceWarning: Stochastic Optimizer: Maximum iterations (20) reached and the optimization hasn't converged yet.\n",
      "  warnings.warn(\n",
      "C:\\Users\\Admin\\anaconda3\\lib\\site-packages\\sklearn\\neural_network\\_multilayer_perceptron.py:582: ConvergenceWarning: Stochastic Optimizer: Maximum iterations (20) reached and the optimization hasn't converged yet.\n",
      "  warnings.warn(\n",
      "C:\\Users\\Admin\\anaconda3\\lib\\site-packages\\sklearn\\neural_network\\_multilayer_perceptron.py:582: ConvergenceWarning: Stochastic Optimizer: Maximum iterations (20) reached and the optimization hasn't converged yet.\n",
      "  warnings.warn(\n",
      "C:\\Users\\Admin\\anaconda3\\lib\\site-packages\\sklearn\\neural_network\\_multilayer_perceptron.py:582: ConvergenceWarning: Stochastic Optimizer: Maximum iterations (20) reached and the optimization hasn't converged yet.\n",
      "  warnings.warn(\n",
      "C:\\Users\\Admin\\anaconda3\\lib\\site-packages\\sklearn\\neural_network\\_multilayer_perceptron.py:582: ConvergenceWarning: Stochastic Optimizer: Maximum iterations (20) reached and the optimization hasn't converged yet.\n",
      "  warnings.warn(\n",
      "C:\\Users\\Admin\\anaconda3\\lib\\site-packages\\sklearn\\neural_network\\_multilayer_perceptron.py:582: ConvergenceWarning: Stochastic Optimizer: Maximum iterations (20) reached and the optimization hasn't converged yet.\n",
      "  warnings.warn(\n",
      "C:\\Users\\Admin\\anaconda3\\lib\\site-packages\\sklearn\\neural_network\\_multilayer_perceptron.py:582: ConvergenceWarning: Stochastic Optimizer: Maximum iterations (20) reached and the optimization hasn't converged yet.\n",
      "  warnings.warn(\n",
      "C:\\Users\\Admin\\anaconda3\\lib\\site-packages\\sklearn\\neural_network\\_multilayer_perceptron.py:582: ConvergenceWarning: Stochastic Optimizer: Maximum iterations (20) reached and the optimization hasn't converged yet.\n",
      "  warnings.warn(\n",
      "C:\\Users\\Admin\\anaconda3\\lib\\site-packages\\sklearn\\neural_network\\_multilayer_perceptron.py:582: ConvergenceWarning: Stochastic Optimizer: Maximum iterations (20) reached and the optimization hasn't converged yet.\n",
      "  warnings.warn(\n",
      "C:\\Users\\Admin\\anaconda3\\lib\\site-packages\\sklearn\\neural_network\\_multilayer_perceptron.py:582: ConvergenceWarning: Stochastic Optimizer: Maximum iterations (20) reached and the optimization hasn't converged yet.\n",
      "  warnings.warn(\n",
      "C:\\Users\\Admin\\anaconda3\\lib\\site-packages\\sklearn\\neural_network\\_multilayer_perceptron.py:582: ConvergenceWarning: Stochastic Optimizer: Maximum iterations (20) reached and the optimization hasn't converged yet.\n",
      "  warnings.warn(\n",
      "C:\\Users\\Admin\\anaconda3\\lib\\site-packages\\sklearn\\neural_network\\_multilayer_perceptron.py:582: ConvergenceWarning: Stochastic Optimizer: Maximum iterations (20) reached and the optimization hasn't converged yet.\n",
      "  warnings.warn(\n",
      "C:\\Users\\Admin\\anaconda3\\lib\\site-packages\\sklearn\\neural_network\\_multilayer_perceptron.py:582: ConvergenceWarning: Stochastic Optimizer: Maximum iterations (20) reached and the optimization hasn't converged yet.\n",
      "  warnings.warn(\n",
      "C:\\Users\\Admin\\anaconda3\\lib\\site-packages\\sklearn\\neural_network\\_multilayer_perceptron.py:582: ConvergenceWarning: Stochastic Optimizer: Maximum iterations (20) reached and the optimization hasn't converged yet.\n",
      "  warnings.warn(\n",
      "C:\\Users\\Admin\\anaconda3\\lib\\site-packages\\sklearn\\neural_network\\_multilayer_perceptron.py:582: ConvergenceWarning: Stochastic Optimizer: Maximum iterations (20) reached and the optimization hasn't converged yet.\n",
      "  warnings.warn(\n",
      "C:\\Users\\Admin\\anaconda3\\lib\\site-packages\\sklearn\\neural_network\\_multilayer_perceptron.py:582: ConvergenceWarning: Stochastic Optimizer: Maximum iterations (20) reached and the optimization hasn't converged yet.\n",
      "  warnings.warn(\n",
      "C:\\Users\\Admin\\anaconda3\\lib\\site-packages\\sklearn\\neural_network\\_multilayer_perceptron.py:582: ConvergenceWarning: Stochastic Optimizer: Maximum iterations (20) reached and the optimization hasn't converged yet.\n",
      "  warnings.warn(\n",
      "C:\\Users\\Admin\\anaconda3\\lib\\site-packages\\sklearn\\neural_network\\_multilayer_perceptron.py:582: ConvergenceWarning: Stochastic Optimizer: Maximum iterations (20) reached and the optimization hasn't converged yet.\n",
      "  warnings.warn(\n",
      "C:\\Users\\Admin\\anaconda3\\lib\\site-packages\\sklearn\\neural_network\\_multilayer_perceptron.py:582: ConvergenceWarning: Stochastic Optimizer: Maximum iterations (20) reached and the optimization hasn't converged yet.\n",
      "  warnings.warn(\n",
      "C:\\Users\\Admin\\anaconda3\\lib\\site-packages\\sklearn\\neural_network\\_multilayer_perceptron.py:582: ConvergenceWarning: Stochastic Optimizer: Maximum iterations (20) reached and the optimization hasn't converged yet.\n",
      "  warnings.warn(\n",
      "C:\\Users\\Admin\\anaconda3\\lib\\site-packages\\sklearn\\neural_network\\_multilayer_perceptron.py:582: ConvergenceWarning: Stochastic Optimizer: Maximum iterations (20) reached and the optimization hasn't converged yet.\n",
      "  warnings.warn(\n"
     ]
    },
    {
     "data": {
      "image/png": "[encoded data removed]",
      "text/plain": [
       "<Figure size 432x288 with 1 Axes>"
      ]
     },
     "metadata": {
      "needs_background": "light"
     },
     "output_type": "display_data"
    }
   ],
   "source": [
    "from sklearn.neural_network import MLPClassifier\n",
    "from sklearn.metrics import f1_score\n",
    "from sklearn.metrics import accuracy_score\n",
    "from sklearn.model_selection import learning_curve\n",
    "import matplotlib.pyplot as plt\n",
    "\n",
    "\n",
    "clf = MLPClassifier(random_state=1, alpha=0.08).fit(train_tfidf_instance, train_label)\n",
    "\n",
    "train_sizes, train_scores, test_scores = learning_curve(estimator=clf, X=train_tfidf_instance, y=train_label)\n",
    "train_mean = np.mean(train_scores, axis=1)\n",
    "train_std = np.std(train_scores, axis=1)\n",
    "test_mean = np.mean(test_scores, axis=1)\n",
    "test_std = np.std(test_scores, axis=1)\n",
    "\n",
    "plt.plot(train_sizes, train_mean, color='blue', marker='o', markersize=5, label='Training Accuracy')\n",
    "plt.plot(train_sizes, test_mean, color='green', marker='+', markersize=5, linestyle='--', label='Validation Accuracy')\n",
    "plt.title('Learning Curve')\n",
    "plt.xlabel('Training Data Size')\n",
    "plt.ylabel('Model accuracy')\n",
    "plt.grid()\n",
    "plt.legend(loc='lower right')\n",
    "plt.show()"
   ]
  },
  {
   "cell_type": "code",
   "execution_count": 4,
   "metadata": {},
   "outputs": [
    {
     "name": "stdout",
     "output_type": "stream",
     "text": [
      "MLP for tfidf \t\tAccuracy: 0.7114\tMacro F1: 0.7319\n"
     ]
    },
    {
     "name": "stderr",
     "output_type": "stream",
     "text": [
      "C:\\Users\\Admin\\anaconda3\\lib\\site-packages\\sklearn\\neural_network\\_multilayer_perceptron.py:582: ConvergenceWarning: Stochastic Optimizer: Maximum iterations (40) reached and the optimization hasn't converged yet.\n",
      "  warnings.warn(\n"
     ]
    }
   ],
   "source": [
    "from sklearn.neural_network import MLPClassifier\n",
    "from sklearn.metrics import f1_score\n",
    "from sklearn.metrics import accuracy_score\n",
    "\n",
    "\n",
    "clf = MLPClassifier(random_state=1, alpha=0.1, max_iter=40).fit(train_glove_instance, train_label)\n",
    "MLP_predictions = clf.predict(dev_glove_instance)\n",
    "\n",
    "mlp_err = accuracy_score(MLP_predictions, dev_label)\n",
    "mlp_f1 = f1_score(MLP_predictions, dev_label, average='macro')\n",
    "\n",
    "print(f\"MLP for tfidf \\t\\tAccuracy: {round(mlp_err, 4)}\\tMacro F1: {round(mlp_f1, 4)}\")"
   ]
  },
  {
   "cell_type": "markdown",
   "metadata": {},
   "source": [
    "## Decision Trees"
   ]
  },
  {
   "cell_type": "code",
   "execution_count": 37,
   "metadata": {},
   "outputs": [
    {
     "name": "stdout",
     "output_type": "stream",
     "text": [
      "DT for glove \t\tAccuracy: 0.5465\tMacro F1: 0.5647\n",
      "DT for counts \t\tAccuracy: 0.639\tMacro F1: 0.655\n",
      "DT for tfidf \t\tAccuracy: 0.6356\tMacro F1: 0.6524\n"
     ]
    }
   ],
   "source": [
    "from sklearn.tree import DecisionTreeClassifier\n",
    "from sklearn.metrics import f1_score\n",
    "from sklearn.metrics import accuracy_score\n",
    "clf = DecisionTreeClassifier(criterion='entropy').fit(train_glove_instance, train_label)\n",
    "DT_predictions = clf.predict(dev_glove_instance)\n",
    "\n",
    "mlp_err = accuracy_score(DT_predictions, dev_label)\n",
    "mlp_f1 = f1_score(DT_predictions, dev_label, average='macro')\n",
    "\n",
    "print(f\"DT for glove \\t\\tAccuracy: {round(mlp_err, 4)}\\tMacro F1: {round(mlp_f1, 4)}\")\n",
    "\n",
    "clf = DecisionTreeClassifier(criterion='entropy').fit(train_count_instance, train_label)\n",
    "DT_predictions = clf.predict(dev_count_instance)\n",
    "\n",
    "mlp_err = accuracy_score(DT_predictions, dev_label)\n",
    "mlp_f1 = f1_score(DT_predictions, dev_label, average='macro')\n",
    "\n",
    "print(f\"DT for counts \\t\\tAccuracy: {round(mlp_err, 4)}\\tMacro F1: {round(mlp_f1, 4)}\")\n",
    "\n",
    "clf = DecisionTreeClassifier(criterion='entropy').fit(train_tfidf_instance, train_label)\n",
    "DT_predictions = clf.predict(dev_tfidf_instance)\n",
    "\n",
    "mlp_err = accuracy_score(DT_predictions, dev_label)\n",
    "mlp_f1 = f1_score(DT_predictions, dev_label, average='macro')\n",
    "\n",
    "print(f\"DT for tfidf \\t\\tAccuracy: {round(mlp_err, 4)}\\tMacro F1: {round(mlp_f1, 4)}\")\n"
   ]
  },
  {
   "cell_type": "code",
   "execution_count": 35,
   "metadata": {},
   "outputs": [
    {
     "data": {
      "image/png": "[encoded data removed]",
      "text/plain": [
       "<Figure size 432x288 with 1 Axes>"
      ]
     },
     "metadata": {
      "needs_background": "light"
     },
     "output_type": "display_data"
    }
   ],
   "source": [
    "from sklearn.tree import DecisionTreeClassifier\n",
    "from sklearn.metrics import f1_score\n",
    "from sklearn.metrics import accuracy_score\n",
    "from sklearn.model_selection import learning_curve\n",
    "import matplotlib.pyplot as plt\n",
    "\n",
    "\n",
    "train_sizes, train_scores, test_scores = learning_curve(estimator=DecisionTreeClassifier(), X=train_count_instance, y=train_label)\n",
    "train_mean = np.mean(train_scores, axis=1)\n",
    "train_std = np.std(train_scores, axis=1)\n",
    "test_mean = np.mean(test_scores, axis=1)\n",
    "test_std = np.std(test_scores, axis=1)\n",
    "\n",
    "plt.plot(train_sizes, train_mean, color='blue', marker='o', markersize=5, label='Training Accuracy')\n",
    "plt.plot(train_sizes, test_mean, color='green', marker='+', markersize=5, linestyle='--', label='Validation Accuracy')\n",
    "plt.title('Learning Curve')\n",
    "plt.xlabel('Training Data Size')\n",
    "plt.ylabel('Model accuracy')\n",
    "plt.grid()\n",
    "plt.legend(loc='lower right')\n",
    "plt.show()"
   ]
  },
  {
   "cell_type": "code",
   "execution_count": 28,
   "metadata": {},
   "outputs": [
    {
     "name": "stdout",
     "output_type": "stream",
     "text": [
      "DT for counts \t\tAccuracy: 0.5023\tMicro F1: 0.7094\n"
     ]
    }
   ],
   "source": [
    "clf = DecisionTreeClassifier(criterion='entropy', max_depth=25).fit(train_count_instance, train_label)\n",
    "DT_predictions = clf.predict(dev_count_instance)\n",
    "\n",
    "mlp_err = accuracy_score(DT_predictions, dev_label)\n",
    "mlp_f1 = f1_score(MLP_predictions, dev_label, average='macro')\n",
    "\n",
    "print(f\"DT for counts \\t\\tAccuracy: {round(mlp_err, 4)}\\tMicro F1: {round(mlp_f1, 4)}\")"
   ]
  },
  {
   "cell_type": "code",
   "execution_count": 29,
   "metadata": {},
   "outputs": [
    {
     "name": "stdout",
     "output_type": "stream",
     "text": [
      "DT for counts \t\tAccuracy: 0.5148\tMicro F1: 0.7094\n"
     ]
    }
   ],
   "source": [
    "clf = DecisionTreeClassifier(criterion='entropy', max_depth=30).fit(train_count_instance, train_label)\n",
    "DT_predictions = clf.predict(dev_count_instance)\n",
    "\n",
    "mlp_err = accuracy_score(DT_predictions, dev_label)\n",
    "mlp_f1 = f1_score(MLP_predictions, dev_label, average='macro')\n",
    "\n",
    "print(f\"DT for counts \\t\\tAccuracy: {round(mlp_err, 4)}\\tMicro F1: {round(mlp_f1, 4)}\")"
   ]
  },
  {
   "cell_type": "code",
   "execution_count": 30,
   "metadata": {},
   "outputs": [
    {
     "name": "stdout",
     "output_type": "stream",
     "text": [
      "DT for counts \t\tAccuracy: 0.5301\tMicro F1: 0.7094\n"
     ]
    }
   ],
   "source": [
    "clf = DecisionTreeClassifier(criterion='entropy', max_depth=40).fit(train_count_instance, train_label)\n",
    "DT_predictions = clf.predict(dev_count_instance)\n",
    "\n",
    "mlp_err = accuracy_score(DT_predictions, dev_label)\n",
    "mlp_f1 = f1_score(MLP_predictions, dev_label, average='micro')\n",
    "\n",
    "print(f\"DT for counts \\t\\tAccuracy: {round(mlp_err, 4)}\\tMicro F1: {round(mlp_f1, 4)}\")"
   ]
  },
  {
   "cell_type": "code",
   "execution_count": 31,
   "metadata": {},
   "outputs": [
    {
     "name": "stdout",
     "output_type": "stream",
     "text": [
      "DT for counts \t\tAccuracy: 0.5474\tMicro F1: 0.7094\n"
     ]
    }
   ],
   "source": [
    "clf = DecisionTreeClassifier(criterion='entropy', max_depth=50).fit(train_count_instance, train_label)\n",
    "DT_predictions = clf.predict(dev_count_instance)\n",
    "\n",
    "mlp_err = accuracy_score(DT_predictions, dev_label)\n",
    "mlp_f1 = f1_score(MLP_predictions, dev_label, average='micro')\n",
    "\n",
    "print(f\"DT for counts \\t\\tAccuracy: {round(mlp_err, 4)}\\tMicro F1: {round(mlp_f1, 4)}\")"
   ]
  },
  {
   "cell_type": "code",
   "execution_count": 32,
   "metadata": {},
   "outputs": [
    {
     "name": "stdout",
     "output_type": "stream",
     "text": [
      "DT for counts \t\tAccuracy: 0.5785\tMicro F1: 0.7094\n"
     ]
    }
   ],
   "source": [
    "clf = DecisionTreeClassifier(criterion='entropy', max_depth=70).fit(train_count_instance, train_label)\n",
    "DT_predictions = clf.predict(dev_count_instance)\n",
    "\n",
    "mlp_err = accuracy_score(DT_predictions, dev_label)\n",
    "mlp_f1 = f1_score(MLP_predictions, dev_label, average='micro')\n",
    "\n",
    "print(f\"DT for counts \\t\\tAccuracy: {round(mlp_err, 4)}\\tMicro F1: {round(mlp_f1, 4)}\")"
   ]
  },
  {
   "cell_type": "code",
   "execution_count": 33,
   "metadata": {},
   "outputs": [
    {
     "name": "stdout",
     "output_type": "stream",
     "text": [
      "DT for counts \t\tAccuracy: 0.594\tMicro F1: 0.7094\n"
     ]
    }
   ],
   "source": [
    "clf = DecisionTreeClassifier(criterion='entropy', max_depth=90).fit(train_count_instance, train_label)\n",
    "DT_predictions = clf.predict(dev_count_instance)\n",
    "\n",
    "mlp_err = accuracy_score(DT_predictions, dev_label)\n",
    "mlp_f1 = f1_score(MLP_predictions, dev_label, average='micro')\n",
    "\n",
    "print(f\"DT for counts \\t\\tAccuracy: {round(mlp_err, 4)}\\tMicro F1: {round(mlp_f1, 4)}\")"
   ]
  },
  {
   "cell_type": "code",
   "execution_count": 34,
   "metadata": {},
   "outputs": [
    {
     "name": "stdout",
     "output_type": "stream",
     "text": [
      "DT for counts \t\tAccuracy: 0.6099\tMicro F1: 0.7094\n"
     ]
    }
   ],
   "source": [
    "clf = DecisionTreeClassifier(criterion='entropy', max_depth=120).fit(train_count_instance, train_label)\n",
    "DT_predictions = clf.predict(dev_count_instance)\n",
    "\n",
    "mlp_err = accuracy_score(DT_predictions, dev_label)\n",
    "mlp_f1 = f1_score(MLP_predictions, dev_label, average='micro')\n",
    "\n",
    "print(f\"DT for counts \\t\\tAccuracy: {round(mlp_err, 4)}\\tMicro F1: {round(mlp_f1, 4)}\")"
   ]
  },
  {
   "cell_type": "code",
   "execution_count": 35,
   "metadata": {},
   "outputs": [
    {
     "name": "stdout",
     "output_type": "stream",
     "text": [
      "DT for counts \t\tAccuracy: 0.6158\tMicro F1: 0.7094\n"
     ]
    }
   ],
   "source": [
    "clf = DecisionTreeClassifier(criterion='entropy', max_depth=140).fit(train_count_instance, train_label)\n",
    "DT_predictions = clf.predict(dev_count_instance)\n",
    "\n",
    "mlp_err = accuracy_score(DT_predictions, dev_label)\n",
    "mlp_f1 = f1_score(MLP_predictions, dev_label, average='micro')\n",
    "\n",
    "print(f\"DT for counts \\t\\tAccuracy: {round(mlp_err, 4)}\\tMicro F1: {round(mlp_f1, 4)}\")"
   ]
  },
  {
   "cell_type": "code",
   "execution_count": 36,
   "metadata": {},
   "outputs": [
    {
     "name": "stdout",
     "output_type": "stream",
     "text": [
      "DT for counts \t\tAccuracy: 0.6205\tMicro F1: 0.7094\n"
     ]
    }
   ],
   "source": [
    "clf = DecisionTreeClassifier(criterion='entropy', max_depth=160).fit(train_count_instance, train_label)\n",
    "DT_predictions = clf.predict(dev_count_instance)\n",
    "\n",
    "mlp_err = accuracy_score(DT_predictions, dev_label)\n",
    "mlp_f1 = f1_score(MLP_predictions, dev_label, average='micro')\n",
    "\n",
    "print(f\"DT for counts \\t\\tAccuracy: {round(mlp_err, 4)}\\tMicro F1: {round(mlp_f1, 4)}\")"
   ]
  },
  {
   "cell_type": "code",
   "execution_count": 37,
   "metadata": {},
   "outputs": [
    {
     "name": "stdout",
     "output_type": "stream",
     "text": [
      "DT for counts \t\tAccuracy: 0.6241\tMicro F1: 0.7094\n"
     ]
    }
   ],
   "source": [
    "clf = DecisionTreeClassifier(criterion='entropy', max_depth=200).fit(train_count_instance, train_label)\n",
    "DT_predictions = clf.predict(dev_count_instance)\n",
    "\n",
    "mlp_err = accuracy_score(DT_predictions, dev_label)\n",
    "mlp_f1 = f1_score(MLP_predictions, dev_label, average='micro')\n",
    "\n",
    "print(f\"DT for counts \\t\\tAccuracy: {round(mlp_err, 4)}\\tMicro F1: {round(mlp_f1, 4)}\")"
   ]
  },
  {
   "cell_type": "code",
   "execution_count": 38,
   "metadata": {},
   "outputs": [
    {
     "name": "stdout",
     "output_type": "stream",
     "text": [
      "DT for counts \t\tAccuracy: 0.6266\tMicro F1: 0.7094\n"
     ]
    }
   ],
   "source": [
    "clf = DecisionTreeClassifier(criterion='entropy', max_depth=250).fit(train_count_instance, train_label)\n",
    "DT_predictions = clf.predict(dev_count_instance)\n",
    "\n",
    "mlp_err = accuracy_score(DT_predictions, dev_label)\n",
    "mlp_f1 = f1_score(MLP_predictions, dev_label, average='micro')\n",
    "\n",
    "print(f\"DT for counts \\t\\tAccuracy: {round(mlp_err, 4)}\\tMicro F1: {round(mlp_f1, 4)}\")"
   ]
  },
  {
   "cell_type": "code",
   "execution_count": 39,
   "metadata": {},
   "outputs": [
    {
     "name": "stdout",
     "output_type": "stream",
     "text": [
      "DT for counts \t\tAccuracy: 0.6295\tMicro F1: 0.7094\n"
     ]
    }
   ],
   "source": [
    "clf = DecisionTreeClassifier(criterion='entropy', max_depth=300).fit(train_count_instance, train_label)\n",
    "DT_predictions = clf.predict(dev_count_instance)\n",
    "\n",
    "mlp_err = accuracy_score(DT_predictions, dev_label)\n",
    "mlp_f1 = f1_score(MLP_predictions, dev_label, average='micro')\n",
    "\n",
    "print(f\"DT for counts \\t\\tAccuracy: {round(mlp_err, 4)}\\tMicro F1: {round(mlp_f1, 4)}\")"
   ]
  },
  {
   "cell_type": "code",
   "execution_count": 40,
   "metadata": {},
   "outputs": [
    {
     "name": "stdout",
     "output_type": "stream",
     "text": [
      "DT for counts \t\tAccuracy: 0.6327\tMicro F1: 0.7094\n"
     ]
    }
   ],
   "source": [
    "clf = DecisionTreeClassifier(criterion='entropy', max_depth=330).fit(train_count_instance, train_label)\n",
    "DT_predictions = clf.predict(dev_count_instance)\n",
    "\n",
    "mlp_err = accuracy_score(DT_predictions, dev_label)\n",
    "mlp_f1 = f1_score(MLP_predictions, dev_label, average='micro')\n",
    "\n",
    "print(f\"DT for counts \\t\\tAccuracy: {round(mlp_err, 4)}\\tMicro F1: {round(mlp_f1, 4)}\")"
   ]
  },
  {
   "cell_type": "markdown",
   "metadata": {},
   "source": [
    "## Random Forest"
   ]
  },
  {
   "cell_type": "code",
   "execution_count": 8,
   "metadata": {},
   "outputs": [
    {
     "name": "stdout",
     "output_type": "stream",
     "text": [
      "RF for glove \t\tAccuracy: 0.6629\tMacro F1: 0.6837\n",
      "RF for counts \t\tAccuracy: 0.6901\tMacro F1: 0.7057\n",
      "RF for tfidf \t\tAccuracy: 0.7022\tMacro F1: 0.717\n"
     ]
    }
   ],
   "source": [
    "from sklearn.ensemble import RandomForestClassifier\n",
    "from sklearn.metrics import f1_score\n",
    "from sklearn.metrics import accuracy_score\n",
    "clf = RandomForestClassifier(criterion='entropy').fit(train_glove_instance, train_label)\n",
    "RF_predictions = clf.predict(dev_glove_instance)\n",
    "\n",
    "mlp_err = accuracy_score(RF_predictions, dev_label)\n",
    "mlp_f1 = f1_score(RF_predictions, dev_label, average='macro')\n",
    "\n",
    "print(f\"RF for glove \\t\\tAccuracy: {round(mlp_err, 4)}\\tMacro F1: {round(mlp_f1, 4)}\")\n",
    "\n",
    "clf = RandomForestClassifier(criterion='entropy').fit(train_count_instance, train_label)\n",
    "RF_predictions = clf.predict(dev_count_instance)\n",
    "\n",
    "mlp_err = accuracy_score(RF_predictions, dev_label)\n",
    "mlp_f1 = f1_score(RF_predictions, dev_label, average='macro')\n",
    "\n",
    "print(f\"RF for counts \\t\\tAccuracy: {round(mlp_err, 4)}\\tMacro F1: {round(mlp_f1, 4)}\")\n",
    "\n",
    "clf = RandomForestClassifier(criterion='entropy').fit(train_tfidf_instance, train_label)\n",
    "RF_predictions = clf.predict(dev_tfidf_instance)\n",
    "\n",
    "mlp_err = accuracy_score(RF_predictions, dev_label)\n",
    "mlp_f1 = f1_score(RF_predictions, dev_label, average='macro')\n",
    "\n",
    "print(f\"RF for tfidf \\t\\tAccuracy: {round(mlp_err, 4)}\\tMacro F1: {round(mlp_f1, 4)}\")"
   ]
  },
  {
   "cell_type": "code",
   "execution_count": null,
   "metadata": {},
   "outputs": [],
   "source": [
    "test_predictions =classifier.predict(testScaled)\n",
    "ids = test_count[\"tweet_id\"].values.tolist()\n",
    "ids = np.array(ids)\n",
    "dataset = pd.DataFrame({'tweet_id': ids, 'sentiment': test_predictions}, columns=['tweet_id', 'sentiment'])\n",
    "dataset.to_csv('out.csv', index=False)"
   ]
  }
 ],
 "metadata": {
  "kernelspec": {
   "display_name": "Python 3",
   "language": "python",
   "name": "python3"
  },
  "language_info": {
   "codemirror_mode": {
    "name": "ipython",
    "version": 3
   },
   "file_extension": ".py",
   "mimetype": "text/x-python",
   "name": "python",
   "nbconvert_exporter": "python",
   "pygments_lexer": "ipython3",
   "version": "3.8.3"
  }
 },
 "nbformat": 4,
 "nbformat_minor": 4
}
